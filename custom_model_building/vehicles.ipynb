{
 "cells": [
  {
   "cell_type": "code",
   "execution_count": 161,
   "metadata": {},
   "outputs": [],
   "source": [
    "import torch \n",
    "from torch import nn\n",
    "import torch.nn.functional as F\n",
    "\n",
    "from torch.utils.data import DataLoader, Dataset\n",
    "import pandas as pd\n",
    "import numpy as np \n",
    "import matplotlib.pyplot as plt \n",
    "from train import train\n",
    "from torch.optim import Adam\n",
    "from sklearn.metrics import accuracy_score, ConfusionMatrixDisplay\n",
    "from sklearn.model_selection import train_test_split"
   ]
  },
  {
   "cell_type": "code",
   "execution_count": 162,
   "metadata": {},
   "outputs": [],
   "source": [
    "device = \"cuda\" if torch.cuda.is_available() else \"cpu\""
   ]
  },
  {
   "cell_type": "markdown",
   "metadata": {},
   "source": [
    "Ammount of objects already turned to categorical format, so:\n",
    "0 -  means no objects \n",
    "1 - means 1-5 objects (few)\n",
    "2 - means 6-10 (some)\n",
    "3 - means >10 objects (a lot)\n",
    "\n",
    "Ammount of avalailable weapons means:\n",
    "0 - no amunition of this type (0)\n",
    "1 - a few amunition of this type (<10)\n",
    "2 - some amunition of this type (10-50)\n",
    "3 - enought amunition of this type (<50)\n",
    "\n",
    "All of above ammounts could be changed so for example 1 as a detectes combat vehicle could mean not 1-5 but 1-3 detected objects. It will be realized in following code part.\n",
    "\n",
    "\n",
    "Descisions are also turned into categorical format:\n",
    "0 - means to use anti-tank guided missile (atgm)\n",
    "1 - means to use clusster shells \n",
    "2 - means to use unitae shells \n",
    "3 - means to use FPV kamikaze-drones\n",
    "4 - means to use troop guns\n",
    "5 - means to use anti-tank guided missile (atgm) and troop guns in same time \n",
    "6 - means to use troop guns and FPV kamikaze-drones\n",
    "7 - means to use rest of ammunition \n"
   ]
  },
  {
   "cell_type": "code",
   "execution_count": 163,
   "metadata": {},
   "outputs": [
    {
     "data": {
      "text/html": [
       "<div>\n",
       "<style scoped>\n",
       "    .dataframe tbody tr th:only-of-type {\n",
       "        vertical-align: middle;\n",
       "    }\n",
       "\n",
       "    .dataframe tbody tr th {\n",
       "        vertical-align: top;\n",
       "    }\n",
       "\n",
       "    .dataframe thead th {\n",
       "        text-align: right;\n",
       "    }\n",
       "</style>\n",
       "<table border=\"1\" class=\"dataframe\">\n",
       "  <thead>\n",
       "    <tr style=\"text-align: right;\">\n",
       "      <th></th>\n",
       "      <th>tanks_ammount</th>\n",
       "      <th>ifv_ammount</th>\n",
       "      <th>apc_ammount</th>\n",
       "      <th>atgm_ammount</th>\n",
       "      <th>clusster_shells_ammount</th>\n",
       "      <th>unitar_shells_ammount</th>\n",
       "      <th>fpv_ammount</th>\n",
       "      <th>descision</th>\n",
       "    </tr>\n",
       "  </thead>\n",
       "  <tbody>\n",
       "    <tr>\n",
       "      <th>0</th>\n",
       "      <td>0</td>\n",
       "      <td>0</td>\n",
       "      <td>1</td>\n",
       "      <td>0</td>\n",
       "      <td>0</td>\n",
       "      <td>0</td>\n",
       "      <td>0</td>\n",
       "      <td>4.0</td>\n",
       "    </tr>\n",
       "    <tr>\n",
       "      <th>1</th>\n",
       "      <td>0</td>\n",
       "      <td>0</td>\n",
       "      <td>1</td>\n",
       "      <td>0</td>\n",
       "      <td>0</td>\n",
       "      <td>0</td>\n",
       "      <td>1</td>\n",
       "      <td>3.0</td>\n",
       "    </tr>\n",
       "    <tr>\n",
       "      <th>2</th>\n",
       "      <td>0</td>\n",
       "      <td>0</td>\n",
       "      <td>1</td>\n",
       "      <td>0</td>\n",
       "      <td>0</td>\n",
       "      <td>0</td>\n",
       "      <td>2</td>\n",
       "      <td>3.0</td>\n",
       "    </tr>\n",
       "    <tr>\n",
       "      <th>3</th>\n",
       "      <td>0</td>\n",
       "      <td>0</td>\n",
       "      <td>1</td>\n",
       "      <td>0</td>\n",
       "      <td>0</td>\n",
       "      <td>0</td>\n",
       "      <td>3</td>\n",
       "      <td>3.0</td>\n",
       "    </tr>\n",
       "    <tr>\n",
       "      <th>4</th>\n",
       "      <td>0</td>\n",
       "      <td>0</td>\n",
       "      <td>1</td>\n",
       "      <td>0</td>\n",
       "      <td>0</td>\n",
       "      <td>1</td>\n",
       "      <td>0</td>\n",
       "      <td>2.0</td>\n",
       "    </tr>\n",
       "    <tr>\n",
       "      <th>...</th>\n",
       "      <td>...</td>\n",
       "      <td>...</td>\n",
       "      <td>...</td>\n",
       "      <td>...</td>\n",
       "      <td>...</td>\n",
       "      <td>...</td>\n",
       "      <td>...</td>\n",
       "      <td>...</td>\n",
       "    </tr>\n",
       "    <tr>\n",
       "      <th>16122</th>\n",
       "      <td>3</td>\n",
       "      <td>3</td>\n",
       "      <td>3</td>\n",
       "      <td>3</td>\n",
       "      <td>3</td>\n",
       "      <td>2</td>\n",
       "      <td>2</td>\n",
       "      <td>0.0</td>\n",
       "    </tr>\n",
       "    <tr>\n",
       "      <th>16123</th>\n",
       "      <td>3</td>\n",
       "      <td>3</td>\n",
       "      <td>3</td>\n",
       "      <td>3</td>\n",
       "      <td>3</td>\n",
       "      <td>2</td>\n",
       "      <td>3</td>\n",
       "      <td>0.0</td>\n",
       "    </tr>\n",
       "    <tr>\n",
       "      <th>16124</th>\n",
       "      <td>3</td>\n",
       "      <td>3</td>\n",
       "      <td>3</td>\n",
       "      <td>3</td>\n",
       "      <td>3</td>\n",
       "      <td>3</td>\n",
       "      <td>0</td>\n",
       "      <td>0.0</td>\n",
       "    </tr>\n",
       "    <tr>\n",
       "      <th>16125</th>\n",
       "      <td>3</td>\n",
       "      <td>3</td>\n",
       "      <td>3</td>\n",
       "      <td>3</td>\n",
       "      <td>3</td>\n",
       "      <td>3</td>\n",
       "      <td>1</td>\n",
       "      <td>0.0</td>\n",
       "    </tr>\n",
       "    <tr>\n",
       "      <th>16126</th>\n",
       "      <td>3</td>\n",
       "      <td>3</td>\n",
       "      <td>3</td>\n",
       "      <td>3</td>\n",
       "      <td>3</td>\n",
       "      <td>3</td>\n",
       "      <td>2</td>\n",
       "      <td>0.0</td>\n",
       "    </tr>\n",
       "  </tbody>\n",
       "</table>\n",
       "<p>16127 rows × 8 columns</p>\n",
       "</div>"
      ],
      "text/plain": [
       "       tanks_ammount  ifv_ammount  apc_ammount  atgm_ammount  \\\n",
       "0                  0            0            1             0   \n",
       "1                  0            0            1             0   \n",
       "2                  0            0            1             0   \n",
       "3                  0            0            1             0   \n",
       "4                  0            0            1             0   \n",
       "...              ...          ...          ...           ...   \n",
       "16122              3            3            3             3   \n",
       "16123              3            3            3             3   \n",
       "16124              3            3            3             3   \n",
       "16125              3            3            3             3   \n",
       "16126              3            3            3             3   \n",
       "\n",
       "       clusster_shells_ammount  unitar_shells_ammount  fpv_ammount  descision  \n",
       "0                            0                      0            0        4.0  \n",
       "1                            0                      0            1        3.0  \n",
       "2                            0                      0            2        3.0  \n",
       "3                            0                      0            3        3.0  \n",
       "4                            0                      1            0        2.0  \n",
       "...                        ...                    ...          ...        ...  \n",
       "16122                        3                      2            2        0.0  \n",
       "16123                        3                      2            3        0.0  \n",
       "16124                        3                      3            0        0.0  \n",
       "16125                        3                      3            1        0.0  \n",
       "16126                        3                      3            2        0.0  \n",
       "\n",
       "[16127 rows x 8 columns]"
      ]
     },
     "execution_count": 163,
     "metadata": {},
     "output_type": "execute_result"
    }
   ],
   "source": [
    "data = pd.read_csv(\"/Users/maxkucher/shelling /vehicles.csv\", index_col=False)\n",
    "data = data.drop(\"Unnamed: 0\", axis='columns')\n",
    "data"
   ]
  },
  {
   "cell_type": "code",
   "execution_count": 164,
   "metadata": {},
   "outputs": [],
   "source": [
    "x = data.drop(\"descision\", axis=\"columns\")\n",
    "y = data[\"descision\"]\n",
    "\n",
    "x_train, x_test, y_train, y_test = train_test_split(x, y, test_size=0.2, stratify=y, random_state=42)"
   ]
  },
  {
   "cell_type": "code",
   "execution_count": 165,
   "metadata": {},
   "outputs": [],
   "source": [
    "class MyDataset(Dataset):\n",
    "    def __init__(self, x, y):\n",
    "        self.x = torch.FloatTensor(x.values)\n",
    "        self.y = torch.LongTensor(y.values)\n",
    "        # self.y = self.y.reshape(-1, 1)\n",
    "    \n",
    "    def __len__(self):\n",
    "        return len(self.x)\n",
    "    \n",
    "    def __getitem__(self, index):\n",
    "        return self.x[index], self.y[index]"
   ]
  },
  {
   "cell_type": "code",
   "execution_count": 166,
   "metadata": {},
   "outputs": [],
   "source": [
    "train_dataset = MyDataset(x_train, y_train)\n",
    "test_dataset = MyDataset(x_test, y_test)"
   ]
  },
  {
   "cell_type": "code",
   "execution_count": 167,
   "metadata": {},
   "outputs": [
    {
     "data": {
      "text/plain": [
       "(12901, 3226)"
      ]
     },
     "execution_count": 167,
     "metadata": {},
     "output_type": "execute_result"
    }
   ],
   "source": [
    "len(train_dataset), len(test_dataset)"
   ]
  },
  {
   "cell_type": "code",
   "execution_count": 168,
   "metadata": {},
   "outputs": [
    {
     "data": {
      "text/plain": [
       "(12901, 7)"
      ]
     },
     "execution_count": 168,
     "metadata": {},
     "output_type": "execute_result"
    }
   ],
   "source": [
    "x_train.shape"
   ]
  },
  {
   "cell_type": "code",
   "execution_count": 169,
   "metadata": {},
   "outputs": [
    {
     "data": {
      "text/plain": [
       "descision\n",
       "0.0    9675\n",
       "2.0    2229\n",
       "5.0     418\n",
       "3.0     378\n",
       "1.0     151\n",
       "4.0      50\n",
       "Name: count, dtype: int64"
      ]
     },
     "execution_count": 169,
     "metadata": {},
     "output_type": "execute_result"
    }
   ],
   "source": [
    "y_train.value_counts()"
   ]
  },
  {
   "cell_type": "code",
   "execution_count": 170,
   "metadata": {},
   "outputs": [
    {
     "data": {
      "text/plain": [
       "(tensor([1., 3., 3., 2., 0., 2., 0.]), tensor(0))"
      ]
     },
     "execution_count": 170,
     "metadata": {},
     "output_type": "execute_result"
    }
   ],
   "source": [
    "train_dataset[3]"
   ]
  },
  {
   "cell_type": "code",
   "execution_count": 171,
   "metadata": {},
   "outputs": [],
   "source": [
    "batch_size = 32\n",
    "\n",
    "train_dataloader = DataLoader(train_dataset, batch_size=batch_size, shuffle=True, generator=torch.Generator(device=device))\n",
    "test_dataloader = DataLoader(test_dataset, batch_size=batch_size, shuffle=True, generator=torch.Generator(device=device))\n"
   ]
  },
  {
   "cell_type": "code",
   "execution_count": 172,
   "metadata": {},
   "outputs": [
    {
     "data": {
      "text/plain": [
       "VehiclesModel(\n",
       "  (linear1): Linear(in_features=7, out_features=28, bias=True)\n",
       "  (bnorm1): BatchNorm1d(28, eps=1e-05, momentum=0.1, affine=True, track_running_stats=True)\n",
       "  (linear2): Linear(in_features=28, out_features=24, bias=True)\n",
       "  (drop1): Dropout(p=0.3, inplace=False)\n",
       "  (linear3): Linear(in_features=24, out_features=16, bias=True)\n",
       "  (linear4): Linear(in_features=16, out_features=8, bias=True)\n",
       "  (linear5): Linear(in_features=8, out_features=6, bias=True)\n",
       ")"
      ]
     },
     "execution_count": 172,
     "metadata": {},
     "output_type": "execute_result"
    }
   ],
   "source": [
    "class VehiclesModel(nn.Module):\n",
    "    def __init__(self, num_classes=6):\n",
    "        super().__init__()\n",
    "\n",
    "        self.linear1 = nn.Linear(in_features=7, out_features=28)\n",
    "        self.bnorm1 = nn.BatchNorm1d(28)\n",
    "        self.linear2 = nn.Linear(in_features=28, out_features=24)\n",
    "        self.drop1 = nn.Dropout(0.3)\n",
    "        self.linear3 = nn.Linear(in_features=24, out_features=16)\n",
    "        self.linear4 = nn.Linear(in_features=16, out_features=8)\n",
    "        self.linear5 = nn.Linear(in_features=8, out_features=num_classes)\n",
    "\n",
    "    def forward(self, x):\n",
    "        out = self.linear1(x)\n",
    "        out = F.relu(out)\n",
    "        out = self.bnorm1(out)\n",
    "        out = self.linear2(out)\n",
    "        out = F.relu(out)\n",
    "        out = self.drop1(out)\n",
    "        out = self.linear3(out)\n",
    "        out = F.relu(out)\n",
    "        out = self.linear4(out)\n",
    "        out = F.relu(out)\n",
    "        out = self.linear5(out)\n",
    "        return out\n",
    "    \n",
    "    def predict(self, x):\n",
    "        x = torch.FloatTensor(x).to(device)\n",
    "        with torch.no_grad():\n",
    "            y_pred = F.softmax(self.forward(x), dim=-1)\n",
    "\n",
    "        return y_pred\n",
    "    \n",
    "model = VehiclesModel().to(device)\n",
    "model"
   ]
  },
  {
   "cell_type": "code",
   "execution_count": 173,
   "metadata": {},
   "outputs": [
    {
     "name": "stdout",
     "output_type": "stream",
     "text": [
      "\u001b[33mWARNING: You are using pip version 21.2.4; however, version 24.2 is available.\n",
      "You should consider upgrading via the '/Library/Developer/CommandLineTools/usr/bin/python3 -m pip install --upgrade pip' command.\u001b[0m\n",
      "Note: you may need to restart the kernel to use updated packages.\n"
     ]
    }
   ],
   "source": [
    "%pip install -q torchsummary"
   ]
  },
  {
   "cell_type": "code",
   "execution_count": 174,
   "metadata": {},
   "outputs": [
    {
     "name": "stdout",
     "output_type": "stream",
     "text": [
      "----------------------------------------------------------------\n",
      "        Layer (type)               Output Shape         Param #\n",
      "================================================================\n",
      "            Linear-1                   [-1, 28]             224\n",
      "       BatchNorm1d-2                   [-1, 28]              56\n",
      "            Linear-3                   [-1, 24]             696\n",
      "           Dropout-4                   [-1, 24]               0\n",
      "            Linear-5                   [-1, 16]             400\n",
      "            Linear-6                    [-1, 8]             136\n",
      "            Linear-7                    [-1, 6]              54\n",
      "================================================================\n",
      "Total params: 1,566\n",
      "Trainable params: 1,566\n",
      "Non-trainable params: 0\n",
      "----------------------------------------------------------------\n",
      "Input size (MB): 0.00\n",
      "Forward/backward pass size (MB): 0.00\n",
      "Params size (MB): 0.01\n",
      "Estimated Total Size (MB): 0.01\n",
      "----------------------------------------------------------------\n"
     ]
    }
   ],
   "source": [
    "from torchsummary import summary\n",
    "\n",
    "summary(model, input_size=(7, ))"
   ]
  },
  {
   "cell_type": "code",
   "execution_count": 175,
   "metadata": {},
   "outputs": [],
   "source": [
    "loss_func = nn.CrossEntropyLoss()\n",
    "optimizer = Adam(model.parameters(), lr=1e-3)"
   ]
  },
  {
   "cell_type": "code",
   "execution_count": 176,
   "metadata": {},
   "outputs": [
    {
     "name": "stdout",
     "output_type": "stream",
     "text": [
      "Epoch    1    1sec\tloss:      0.537\tval_loss:      0.201\taccuracy_score:      0.803\tval_accuracy_score:      0.923\t\n",
      "Epoch    2    1sec\tloss:      0.191\tval_loss:      0.183\taccuracy_score:      0.922\tval_accuracy_score:      0.923\t\n",
      "Epoch    3    1sec\tloss:      0.162\tval_loss:       0.15\taccuracy_score:      0.923\tval_accuracy_score:      0.933\t\n",
      "Epoch    4    1sec\tloss:      0.138\tval_loss:      0.128\taccuracy_score:      0.945\tval_accuracy_score:      0.955\t\n",
      "Epoch    5    1sec\tloss:      0.115\tval_loss:      0.113\taccuracy_score:      0.963\tval_accuracy_score:      0.975\t\n",
      "Epoch    6    1sec\tloss:      0.103\tval_loss:      0.106\taccuracy_score:      0.969\tval_accuracy_score:      0.974\t\n",
      "Epoch    7    1sec\tloss:      0.091\tval_loss:     0.0807\taccuracy_score:      0.972\tval_accuracy_score:      0.977\t\n",
      "Epoch    8    1sec\tloss:     0.0871\tval_loss:     0.0916\taccuracy_score:      0.972\tval_accuracy_score:      0.975\t\n",
      "Epoch    9    1sec\tloss:     0.0807\tval_loss:     0.0632\taccuracy_score:      0.971\tval_accuracy_score:      0.977\t\n",
      "Epoch   10    1sec\tloss:     0.0718\tval_loss:     0.0732\taccuracy_score:      0.975\tval_accuracy_score:       0.98\t\n",
      "Epoch   11    1sec\tloss:     0.0636\tval_loss:     0.0905\taccuracy_score:      0.976\tval_accuracy_score:       0.98\t\n",
      "Epoch   12    1sec\tloss:     0.0586\tval_loss:     0.0784\taccuracy_score:      0.976\tval_accuracy_score:      0.981\t\n",
      "Epoch   13    1sec\tloss:     0.0553\tval_loss:     0.0735\taccuracy_score:      0.977\tval_accuracy_score:      0.981\t\n",
      "Epoch   14    1sec\tloss:     0.0538\tval_loss:     0.0312\taccuracy_score:      0.979\tval_accuracy_score:      0.993\t\n",
      "Epoch   15    1sec\tloss:     0.0449\tval_loss:     0.0351\taccuracy_score:      0.986\tval_accuracy_score:      0.996\t\n",
      "Epoch   16    1sec\tloss:     0.0372\tval_loss:     0.0389\taccuracy_score:      0.988\tval_accuracy_score:      0.997\t\n",
      "Epoch   17    1sec\tloss:     0.0371\tval_loss:     0.0279\taccuracy_score:      0.988\tval_accuracy_score:      0.996\t\n",
      "Epoch   18    1sec\tloss:     0.0316\tval_loss:     0.0204\taccuracy_score:       0.99\tval_accuracy_score:      0.998\t\n",
      "Epoch   19    1sec\tloss:     0.0382\tval_loss:     0.0281\taccuracy_score:      0.988\tval_accuracy_score:      0.996\t\n",
      "Epoch   20    1sec\tloss:     0.0287\tval_loss:     0.0325\taccuracy_score:       0.99\tval_accuracy_score:      0.997\t\n",
      "Epoch   21    1sec\tloss:     0.0253\tval_loss:     0.0248\taccuracy_score:      0.991\tval_accuracy_score:      0.998\t\n",
      "Epoch   22    1sec\tloss:     0.0268\tval_loss:      0.027\taccuracy_score:      0.991\tval_accuracy_score:      0.998\t\n",
      "Epoch   23    1sec\tloss:     0.0266\tval_loss:     0.0093\taccuracy_score:       0.99\tval_accuracy_score:      0.999\t\n",
      "Epoch   24    1sec\tloss:     0.0257\tval_loss:    0.00486\taccuracy_score:      0.991\tval_accuracy_score:          1\t\n",
      "Epoch   25    1sec\tloss:     0.0218\tval_loss:    0.00713\taccuracy_score:      0.992\tval_accuracy_score:      0.998\t\n",
      "Epoch   26    1sec\tloss:     0.0227\tval_loss:    0.00366\taccuracy_score:      0.991\tval_accuracy_score:      0.999\t\n",
      "Epoch   27    1sec\tloss:     0.0194\tval_loss:    0.00396\taccuracy_score:      0.993\tval_accuracy_score:      0.999\t\n",
      "Epoch   28    1sec\tloss:     0.0201\tval_loss:    0.00291\taccuracy_score:      0.993\tval_accuracy_score:          1\t\n",
      "Epoch   29    1sec\tloss:     0.0189\tval_loss:    0.00209\taccuracy_score:      0.992\tval_accuracy_score:          1\t\n",
      "Epoch   30    1sec\tloss:     0.0226\tval_loss:    0.00961\taccuracy_score:      0.992\tval_accuracy_score:      0.998\t\n",
      "Epoch   31    1sec\tloss:     0.0186\tval_loss:    0.00193\taccuracy_score:      0.993\tval_accuracy_score:          1\t\n",
      "Epoch   32    1sec\tloss:     0.0213\tval_loss:    0.00161\taccuracy_score:      0.994\tval_accuracy_score:          1\t\n",
      "Epoch   33    1sec\tloss:     0.0204\tval_loss:    0.00499\taccuracy_score:      0.992\tval_accuracy_score:      0.999\t\n",
      "Epoch   34    1sec\tloss:     0.0184\tval_loss:    0.00205\taccuracy_score:      0.994\tval_accuracy_score:          1\t\n",
      "Epoch   35    1sec\tloss:     0.0149\tval_loss:    0.00168\taccuracy_score:      0.994\tval_accuracy_score:          1\t\n",
      "Epoch   36    1sec\tloss:     0.0215\tval_loss:    0.00149\taccuracy_score:      0.993\tval_accuracy_score:          1\t\n",
      "Epoch   37    1sec\tloss:     0.0122\tval_loss:     0.0182\taccuracy_score:      0.995\tval_accuracy_score:      0.998\t\n",
      "Epoch   38    1sec\tloss:     0.0128\tval_loss:    0.00765\taccuracy_score:      0.996\tval_accuracy_score:      0.999\t\n",
      "Epoch   39    1sec\tloss:     0.0111\tval_loss:      0.001\taccuracy_score:      0.996\tval_accuracy_score:          1\t\n",
      "Epoch   40    1sec\tloss:      0.028\tval_loss:      0.021\taccuracy_score:      0.992\tval_accuracy_score:      0.995\t\n",
      "Epoch   41    1sec\tloss:      0.028\tval_loss:    0.00384\taccuracy_score:      0.991\tval_accuracy_score:      0.999\t\n",
      "Epoch   42    1sec\tloss:     0.0114\tval_loss:    0.00168\taccuracy_score:      0.997\tval_accuracy_score:          1\t\n",
      "Epoch   43    1sec\tloss:    0.00967\tval_loss:   0.000668\taccuracy_score:      0.998\tval_accuracy_score:          1\t\n",
      "Epoch   44    1sec\tloss:    0.00786\tval_loss:    0.00323\taccuracy_score:      0.998\tval_accuracy_score:      0.999\t\n",
      "Epoch   45    1sec\tloss:     0.0142\tval_loss:   0.000954\taccuracy_score:      0.997\tval_accuracy_score:          1\t\n",
      "Epoch   46    1sec\tloss:    0.00959\tval_loss:   0.000634\taccuracy_score:      0.998\tval_accuracy_score:          1\t\n",
      "Epoch   47    1sec\tloss:     0.0103\tval_loss:    0.00106\taccuracy_score:      0.997\tval_accuracy_score:          1\t\n",
      "Epoch   48    1sec\tloss:     0.0113\tval_loss:    0.00083\taccuracy_score:      0.997\tval_accuracy_score:          1\t\n",
      "Epoch   49    1sec\tloss:     0.0151\tval_loss:    0.00458\taccuracy_score:      0.996\tval_accuracy_score:      0.999\t\n",
      "Epoch   50    1sec\tloss:     0.0103\tval_loss:   0.000936\taccuracy_score:      0.997\tval_accuracy_score:          1\t\n",
      "\n",
      "Time total:     39.23 sec\n"
     ]
    }
   ],
   "source": [
    "history = train(model, optimizer, loss_func, train_dataloader, test_dataloader, epochs=50, metrics=[accuracy_score], \n",
    "                device=device, task=\"multiclass\")"
   ]
  },
  {
   "cell_type": "code",
   "execution_count": 177,
   "metadata": {},
   "outputs": [
    {
     "name": "stdout",
     "output_type": "stream",
     "text": [
      "[0 0 5 ... 2 0 2]\n"
     ]
    }
   ],
   "source": [
    "# Пример данных (замените на свои)\n",
    "\n",
    "\n",
    "# Преобразование данных в тензор\n",
    "# x_test_tensor = torch.FloatTensor(x_test)\n",
    "\n",
    "\n",
    "loader = torch.utils.data.DataLoader(test_dataset, batch_size=len(test_dataset))\n",
    "X_test, y_test = next(iter(loader))\n",
    "\n",
    "# Вызов метода predict\n",
    "y_pred = model.predict(X_test)\n",
    "\n",
    "# Получение предсказанных классов (если это задача классификации)\n",
    "predicted_classes = torch.argmax(y_pred, dim=1).cpu().numpy()\n",
    "\n",
    "print(predicted_classes)\n"
   ]
  },
  {
   "cell_type": "code",
   "execution_count": 178,
   "metadata": {},
   "outputs": [
    {
     "data": {
      "text/plain": [
       "3226"
      ]
     },
     "execution_count": 178,
     "metadata": {},
     "output_type": "execute_result"
    }
   ],
   "source": [
    "len(y_test)"
   ]
  },
  {
   "cell_type": "code",
   "execution_count": 179,
   "metadata": {},
   "outputs": [
    {
     "data": {
      "text/plain": [
       "[]"
      ]
     },
     "execution_count": 179,
     "metadata": {},
     "output_type": "execute_result"
    },
    {
     "data": {
      "image/png": "[encoded data removed]",
      "text/plain": [
       "<Figure size 640x480 with 2 Axes>"
      ]
     },
     "metadata": {},
     "output_type": "display_data"
    }
   ],
   "source": [
    "ConfusionMatrixDisplay.from_predictions(y_test, predicted_classes)\n",
    "plt.plot()"
   ]
  },
  {
   "cell_type": "code",
   "execution_count": 180,
   "metadata": {},
   "outputs": [
    {
     "data": {
      "image/png": "[encoded data removed]",
      "text/plain": [
       "<Figure size 640x480 with 1 Axes>"
      ]
     },
     "metadata": {},
     "output_type": "display_data"
    }
   ],
   "source": [
    "plt.plot(history[\"loss\"], label=\"training loss\")\n",
    "plt.plot(history[\"val_loss\"], label=\"validation loss\")\n",
    "plt.xlabel(\"epochs\")\n",
    "plt.ylabel(\"loss\")\n",
    "plt.legend()\n",
    "plt.show()"
   ]
  },
  {
   "cell_type": "code",
   "execution_count": 181,
   "metadata": {},
   "outputs": [
    {
     "name": "stdout",
     "output_type": "stream",
     "text": [
      "Machine gun\n"
     ]
    }
   ],
   "source": [
    "import torch\n",
    "\n",
    "commands = [\"ATGM\", \"Clusster shells\", \"Unitar shells\", \"FPV-drones\", \"Machine gun\", \"ATGM/Guns\", \"FPV/Guns\", \"Rest of amunition\"]\n",
    "\n",
    "x = torch.FloatTensor([0, 0, 1, 0, 0, 0, 0]).to(device)\n",
    "x = x.unsqueeze(0)\n",
    "model.eval()\n",
    "\n",
    "with torch.no_grad():\n",
    "    res = model(x)\n",
    "\n",
    "t_x = torch.argmax(res)\n",
    "t_array = np.array(t_x)\n",
    "\n",
    "\n",
    "print(commands[t_array])\n"
   ]
  },
  {
   "cell_type": "code",
   "execution_count": 184,
   "metadata": {},
   "outputs": [],
   "source": [
    "torch.save(model, \"vehicles.pt\")"
   ]
  },
  {
   "cell_type": "code",
   "execution_count": 188,
   "metadata": {},
   "outputs": [],
   "source": [
    "torch.save(model.state_dict(), \"vehicles.pt\")"
   ]
  }
 ],
 "metadata": {
  "kernelspec": {
   "display_name": "Python 3",
   "language": "python",
   "name": "python3"
  },
  "language_info": {
   "codemirror_mode": {
    "name": "ipython",
    "version": 3
   },
   "file_extension": ".py",
   "mimetype": "text/x-python",
   "name": "python",
   "nbconvert_exporter": "python",
   "pygments_lexer": "ipython3",
   "version": "3.9.6"
  }
 },
 "nbformat": 4,
 "nbformat_minor": 2
}
