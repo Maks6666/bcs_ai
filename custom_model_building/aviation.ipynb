{
 "cells": [
  {
   "cell_type": "code",
   "execution_count": 2,
   "metadata": {},
   "outputs": [],
   "source": [
    "import torch \n",
    "from torch import nn\n",
    "import torch.nn.functional as F\n",
    "import pandas as pd\n",
    "import numpy as np \n",
    "import matplotlib.pyplot as plt\n",
    "from torch.utils.data import DataLoader, Dataset\n",
    "from sklearn.model_selection import train_test_split\n",
    "from torch.optim import Adam\n",
    "from train import train\n",
    "from sklearn.metrics import accuracy_score, ConfusionMatrixDisplay\n"
   ]
  },
  {
   "cell_type": "code",
   "execution_count": 3,
   "metadata": {},
   "outputs": [],
   "source": [
    "device = \"cuda\" if torch.cuda.is_available() else \"cpu\""
   ]
  },
  {
   "cell_type": "code",
   "execution_count": 4,
   "metadata": {},
   "outputs": [
    {
     "data": {
      "text/html": [
       "<div>\n",
       "<style scoped>\n",
       "    .dataframe tbody tr th:only-of-type {\n",
       "        vertical-align: middle;\n",
       "    }\n",
       "\n",
       "    .dataframe tbody tr th {\n",
       "        vertical-align: top;\n",
       "    }\n",
       "\n",
       "    .dataframe thead th {\n",
       "        text-align: right;\n",
       "    }\n",
       "</style>\n",
       "<table border=\"1\" class=\"dataframe\">\n",
       "  <thead>\n",
       "    <tr style=\"text-align: right;\">\n",
       "      <th></th>\n",
       "      <th>aap_ammount</th>\n",
       "      <th>ah_ammount</th>\n",
       "      <th>th_ammount</th>\n",
       "      <th>ta_ammount</th>\n",
       "      <th>manpads_ammount</th>\n",
       "      <th>sam_ammount</th>\n",
       "      <th>descision</th>\n",
       "    </tr>\n",
       "  </thead>\n",
       "  <tbody>\n",
       "    <tr>\n",
       "      <th>0</th>\n",
       "      <td>0</td>\n",
       "      <td>0</td>\n",
       "      <td>0</td>\n",
       "      <td>1</td>\n",
       "      <td>0</td>\n",
       "      <td>0</td>\n",
       "      <td>2</td>\n",
       "    </tr>\n",
       "    <tr>\n",
       "      <th>1</th>\n",
       "      <td>0</td>\n",
       "      <td>0</td>\n",
       "      <td>0</td>\n",
       "      <td>1</td>\n",
       "      <td>0</td>\n",
       "      <td>1</td>\n",
       "      <td>1</td>\n",
       "    </tr>\n",
       "    <tr>\n",
       "      <th>2</th>\n",
       "      <td>0</td>\n",
       "      <td>0</td>\n",
       "      <td>0</td>\n",
       "      <td>1</td>\n",
       "      <td>0</td>\n",
       "      <td>2</td>\n",
       "      <td>1</td>\n",
       "    </tr>\n",
       "    <tr>\n",
       "      <th>3</th>\n",
       "      <td>0</td>\n",
       "      <td>0</td>\n",
       "      <td>0</td>\n",
       "      <td>1</td>\n",
       "      <td>0</td>\n",
       "      <td>3</td>\n",
       "      <td>1</td>\n",
       "    </tr>\n",
       "    <tr>\n",
       "      <th>4</th>\n",
       "      <td>0</td>\n",
       "      <td>0</td>\n",
       "      <td>0</td>\n",
       "      <td>1</td>\n",
       "      <td>1</td>\n",
       "      <td>0</td>\n",
       "      <td>0</td>\n",
       "    </tr>\n",
       "    <tr>\n",
       "      <th>...</th>\n",
       "      <td>...</td>\n",
       "      <td>...</td>\n",
       "      <td>...</td>\n",
       "      <td>...</td>\n",
       "      <td>...</td>\n",
       "      <td>...</td>\n",
       "      <td>...</td>\n",
       "    </tr>\n",
       "    <tr>\n",
       "      <th>4075</th>\n",
       "      <td>3</td>\n",
       "      <td>3</td>\n",
       "      <td>3</td>\n",
       "      <td>3</td>\n",
       "      <td>2</td>\n",
       "      <td>3</td>\n",
       "      <td>3</td>\n",
       "    </tr>\n",
       "    <tr>\n",
       "      <th>4076</th>\n",
       "      <td>3</td>\n",
       "      <td>3</td>\n",
       "      <td>3</td>\n",
       "      <td>3</td>\n",
       "      <td>3</td>\n",
       "      <td>0</td>\n",
       "      <td>5</td>\n",
       "    </tr>\n",
       "    <tr>\n",
       "      <th>4077</th>\n",
       "      <td>3</td>\n",
       "      <td>3</td>\n",
       "      <td>3</td>\n",
       "      <td>3</td>\n",
       "      <td>3</td>\n",
       "      <td>1</td>\n",
       "      <td>3</td>\n",
       "    </tr>\n",
       "    <tr>\n",
       "      <th>4078</th>\n",
       "      <td>3</td>\n",
       "      <td>3</td>\n",
       "      <td>3</td>\n",
       "      <td>3</td>\n",
       "      <td>3</td>\n",
       "      <td>2</td>\n",
       "      <td>3</td>\n",
       "    </tr>\n",
       "    <tr>\n",
       "      <th>4079</th>\n",
       "      <td>3</td>\n",
       "      <td>3</td>\n",
       "      <td>3</td>\n",
       "      <td>3</td>\n",
       "      <td>3</td>\n",
       "      <td>3</td>\n",
       "      <td>3</td>\n",
       "    </tr>\n",
       "  </tbody>\n",
       "</table>\n",
       "<p>4080 rows × 7 columns</p>\n",
       "</div>"
      ],
      "text/plain": [
       "      aap_ammount  ah_ammount  th_ammount  ta_ammount  manpads_ammount  \\\n",
       "0               0           0           0           1                0   \n",
       "1               0           0           0           1                0   \n",
       "2               0           0           0           1                0   \n",
       "3               0           0           0           1                0   \n",
       "4               0           0           0           1                1   \n",
       "...           ...         ...         ...         ...              ...   \n",
       "4075            3           3           3           3                2   \n",
       "4076            3           3           3           3                3   \n",
       "4077            3           3           3           3                3   \n",
       "4078            3           3           3           3                3   \n",
       "4079            3           3           3           3                3   \n",
       "\n",
       "      sam_ammount  descision  \n",
       "0               0          2  \n",
       "1               1          1  \n",
       "2               2          1  \n",
       "3               3          1  \n",
       "4               0          0  \n",
       "...           ...        ...  \n",
       "4075            3          3  \n",
       "4076            0          5  \n",
       "4077            1          3  \n",
       "4078            2          3  \n",
       "4079            3          3  \n",
       "\n",
       "[4080 rows x 7 columns]"
      ]
     },
     "execution_count": 4,
     "metadata": {},
     "output_type": "execute_result"
    }
   ],
   "source": [
    "data = pd.read_csv(\"/Users/maxkucher/shelling /aviation.csv\")\n",
    "data = data.drop(\"Unnamed: 0\", axis=\"columns\")\n",
    "data"
   ]
  },
  {
   "cell_type": "code",
   "execution_count": 5,
   "metadata": {},
   "outputs": [],
   "source": [
    "x = data.drop(\"descision\", axis=\"columns\")\n",
    "y = data[\"descision\"]\n",
    "\n",
    "x_train, x_test, y_train, y_test = train_test_split(x, y, test_size=0.2, stratify=y)"
   ]
  },
  {
   "cell_type": "code",
   "execution_count": 6,
   "metadata": {},
   "outputs": [],
   "source": [
    "class MyDataset(Dataset):\n",
    "    def __init__(self, x, y):\n",
    "        self.x = torch.FloatTensor(x.values)\n",
    "        self.y = torch.LongTensor(y.values)\n",
    "    \n",
    "    def __len__(self):\n",
    "        return len(self.x)\n",
    "    \n",
    "    def __getitem__(self, index):\n",
    "        return self.x[index], self.y[index]"
   ]
  },
  {
   "cell_type": "code",
   "execution_count": 7,
   "metadata": {},
   "outputs": [],
   "source": [
    "train_dataset = MyDataset(x_train, y_train)\n",
    "test_dataset = MyDataset(x_test, y_test)"
   ]
  },
  {
   "cell_type": "code",
   "execution_count": 8,
   "metadata": {},
   "outputs": [
    {
     "data": {
      "text/plain": [
       "(tensor([1., 0., 3., 2., 1., 1.]), tensor(3))"
      ]
     },
     "execution_count": 8,
     "metadata": {},
     "output_type": "execute_result"
    }
   ],
   "source": [
    "train_dataset[0]"
   ]
  },
  {
   "cell_type": "code",
   "execution_count": 9,
   "metadata": {},
   "outputs": [],
   "source": [
    "batch_size = 32\n",
    "\n",
    "train_dl = DataLoader(train_dataset, batch_size=batch_size, shuffle=True, generator=torch.Generator(device=device))\n",
    "test_dl = DataLoader(test_dataset, batch_size=batch_size, shuffle=True, generator=torch.Generator(device=device))"
   ]
  },
  {
   "cell_type": "code",
   "execution_count": 10,
   "metadata": {},
   "outputs": [
    {
     "data": {
      "text/plain": [
       "(3264, 6)"
      ]
     },
     "execution_count": 10,
     "metadata": {},
     "output_type": "execute_result"
    }
   ],
   "source": [
    "x_train.shape"
   ]
  },
  {
   "cell_type": "code",
   "execution_count": 11,
   "metadata": {},
   "outputs": [
    {
     "data": {
      "text/plain": [
       "descision\n",
       "3    1634\n",
       "5     641\n",
       "4     545\n",
       "2     240\n",
       "1     125\n",
       "0      79\n",
       "Name: count, dtype: int64"
      ]
     },
     "execution_count": 11,
     "metadata": {},
     "output_type": "execute_result"
    }
   ],
   "source": [
    "y_train.value_counts()"
   ]
  },
  {
   "cell_type": "code",
   "execution_count": 12,
   "metadata": {},
   "outputs": [
    {
     "data": {
      "text/plain": [
       "AviationModel(\n",
       "  (linear1): Linear(in_features=6, out_features=24, bias=True)\n",
       "  (bnorm1): BatchNorm1d(24, eps=1e-05, momentum=0.1, affine=True, track_running_stats=True)\n",
       "  (linear2): Linear(in_features=24, out_features=24, bias=True)\n",
       "  (drop1): Dropout(p=0.2, inplace=False)\n",
       "  (linear3): Linear(in_features=24, out_features=12, bias=True)\n",
       "  (linear4): Linear(in_features=12, out_features=6, bias=True)\n",
       ")"
      ]
     },
     "execution_count": 12,
     "metadata": {},
     "output_type": "execute_result"
    }
   ],
   "source": [
    "class AviationModel(nn.Module):\n",
    "    def __init__(self, num_classes=6):\n",
    "        super().__init__()\n",
    "\n",
    "        self.linear1 = nn.Linear(in_features = 6, out_features = 24)\n",
    "        self.bnorm1 = nn.BatchNorm1d(num_features = 24)\n",
    "        self.linear2 = nn.Linear(in_features = 24, out_features = 24)\n",
    "        self.drop1 = nn.Dropout(0.2)\n",
    "        self.linear3 = nn.Linear(in_features = 24, out_features = 12)\n",
    "        self.linear4 = nn.Linear(in_features = 12, out_features = num_classes)\n",
    "\n",
    "    def forward(self, x):\n",
    "        out = self.linear1(x)\n",
    "        out = F.relu(out)\n",
    "        out = self.bnorm1(out)\n",
    "        out = self.linear2(out)\n",
    "        out = F.relu(out)\n",
    "        out = self.drop1(out)\n",
    "        out = self.linear3(out)\n",
    "        out = F.relu(out)\n",
    "        out = self.linear4(out)\n",
    "\n",
    "        return out \n",
    "\n",
    "\n",
    "    def predict(self, x, device=\"cpu\"):\n",
    "\n",
    "        x = torch.FloatTensor(x).to(device)\n",
    "        with torch.no_grad():\n",
    "            y_pred = F.softmax(self.forward(x), dim=-1)\n",
    "\n",
    "        return y_pred\n",
    "    \n",
    "\n",
    "\n",
    "model = AviationModel().to(device)\n",
    "\n",
    "model"
   ]
  },
  {
   "cell_type": "code",
   "execution_count": 13,
   "metadata": {},
   "outputs": [
    {
     "name": "stdout",
     "output_type": "stream",
     "text": [
      "\u001b[33mWARNING: You are using pip version 21.2.4; however, version 24.2 is available.\n",
      "You should consider upgrading via the '/Library/Developer/CommandLineTools/usr/bin/python3 -m pip install --upgrade pip' command.\u001b[0m\n",
      "Note: you may need to restart the kernel to use updated packages.\n"
     ]
    }
   ],
   "source": [
    "%pip install -q torchsummary"
   ]
  },
  {
   "cell_type": "code",
   "execution_count": 14,
   "metadata": {},
   "outputs": [
    {
     "name": "stdout",
     "output_type": "stream",
     "text": [
      "----------------------------------------------------------------\n",
      "        Layer (type)               Output Shape         Param #\n",
      "================================================================\n",
      "            Linear-1                   [-1, 24]             168\n",
      "       BatchNorm1d-2                   [-1, 24]              48\n",
      "            Linear-3                   [-1, 24]             600\n",
      "           Dropout-4                   [-1, 24]               0\n",
      "            Linear-5                   [-1, 12]             300\n",
      "            Linear-6                    [-1, 6]              78\n",
      "================================================================\n",
      "Total params: 1,194\n",
      "Trainable params: 1,194\n",
      "Non-trainable params: 0\n",
      "----------------------------------------------------------------\n",
      "Input size (MB): 0.00\n",
      "Forward/backward pass size (MB): 0.00\n",
      "Params size (MB): 0.00\n",
      "Estimated Total Size (MB): 0.01\n",
      "----------------------------------------------------------------\n"
     ]
    }
   ],
   "source": [
    "from torchsummary import summary\n",
    "\n",
    "summary(model, input_size=(6, ))"
   ]
  },
  {
   "cell_type": "code",
   "execution_count": 15,
   "metadata": {},
   "outputs": [],
   "source": [
    "loss_func = nn.CrossEntropyLoss()\n",
    "optimizer = Adam(model.parameters(), lr=1e-3)"
   ]
  },
  {
   "cell_type": "code",
   "execution_count": 16,
   "metadata": {},
   "outputs": [
    {
     "name": "stdout",
     "output_type": "stream",
     "text": [
      "Epoch    1    0sec\tloss:        1.4\tval_loss:      0.975\taccuracy_score:      0.544\tval_accuracy_score:      0.647\t\n",
      "Epoch    2    0sec\tloss:      0.824\tval_loss:      0.647\taccuracy_score:      0.689\tval_accuracy_score:      0.734\t\n",
      "Epoch    3    0sec\tloss:      0.565\tval_loss:      0.376\taccuracy_score:      0.823\tval_accuracy_score:      0.898\t\n",
      "Epoch    4    0sec\tloss:      0.368\tval_loss:      0.259\taccuracy_score:      0.882\tval_accuracy_score:      0.903\t\n",
      "Epoch    5    0sec\tloss:      0.288\tval_loss:      0.207\taccuracy_score:      0.903\tval_accuracy_score:      0.904\t\n",
      "Epoch    6    0sec\tloss:       0.25\tval_loss:      0.174\taccuracy_score:      0.907\tval_accuracy_score:      0.911\t\n",
      "Epoch    7    0sec\tloss:      0.224\tval_loss:       0.16\taccuracy_score:      0.916\tval_accuracy_score:      0.917\t\n",
      "Epoch    8    0sec\tloss:        0.2\tval_loss:      0.139\taccuracy_score:      0.918\tval_accuracy_score:       0.94\t\n",
      "Epoch    9    0sec\tloss:      0.181\tval_loss:       0.12\taccuracy_score:      0.923\tval_accuracy_score:      0.944\t\n",
      "Epoch   10    0sec\tloss:      0.179\tval_loss:      0.116\taccuracy_score:      0.923\tval_accuracy_score:      0.945\t\n",
      "Epoch   11    0sec\tloss:      0.167\tval_loss:      0.101\taccuracy_score:      0.925\tval_accuracy_score:       0.96\t\n",
      "Epoch   12    0sec\tloss:      0.153\tval_loss:      0.111\taccuracy_score:      0.932\tval_accuracy_score:      0.945\t\n",
      "Epoch   13    0sec\tloss:      0.144\tval_loss:     0.0921\taccuracy_score:      0.934\tval_accuracy_score:      0.949\t\n",
      "Epoch   14    0sec\tloss:      0.125\tval_loss:     0.0771\taccuracy_score:       0.94\tval_accuracy_score:      0.968\t\n",
      "Epoch   15    0sec\tloss:      0.108\tval_loss:      0.075\taccuracy_score:      0.949\tval_accuracy_score:      0.958\t\n",
      "Epoch   16    0sec\tloss:      0.105\tval_loss:     0.0734\taccuracy_score:      0.945\tval_accuracy_score:      0.953\t\n",
      "Epoch   17    0sec\tloss:      0.105\tval_loss:     0.0734\taccuracy_score:      0.947\tval_accuracy_score:      0.966\t\n",
      "Epoch   18    1sec\tloss:     0.0975\tval_loss:     0.0699\taccuracy_score:      0.956\tval_accuracy_score:      0.967\t\n",
      "Epoch   19    0sec\tloss:     0.0951\tval_loss:     0.0649\taccuracy_score:       0.95\tval_accuracy_score:      0.972\t\n",
      "Epoch   20    0sec\tloss:       0.09\tval_loss:     0.0611\taccuracy_score:      0.957\tval_accuracy_score:      0.972\t\n",
      "\n",
      "Time total:      6.37 sec\n"
     ]
    }
   ],
   "source": [
    "history = train(model, optimizer, loss_func, train_dl, test_dl, [accuracy_score],\n",
    "                epochs=20, device=device, task=\"multiclass\")"
   ]
  },
  {
   "cell_type": "code",
   "execution_count": 17,
   "metadata": {},
   "outputs": [
    {
     "name": "stdout",
     "output_type": "stream",
     "text": [
      "[3 5 0 3 5 4 5 5 3 3 3 5 3 3 3 2 0 5 0 3 2 2 3 5 5 1 3 2 5 0 3 5 2 4 3 3 5\n",
      " 3 3 4 5 3 4 4 3 3 2 2 2 5 5 3 2 3 3 4 5 5 5 4 3 3 4 3 3 5 5 4 5 4 3 3 1 3\n",
      " 4 3 3 4 5 5 4 3 3 3 5 5 4 3 2 5 3 2 3 3 4 3 1 4 0 5 3 5 3 3 5 3 4 1 3 1 3\n",
      " 4 3 3 5 3 2 5 5 3 5 5 4 3 4 4 0 2 3 5 3 3 4 4 4 3 5 4 5 3 4 3 2 3 3 2 4 3\n",
      " 1 3 3 2 5 3 3 2 5 3 2 5 4 5 3 4 5 3 2 5 5 4 5 5 4 3 3 3 2 3 5 3 3 3 5 2 3\n",
      " 5 3 3 3 4 4 3 3 4 3 3 4 4 3 3 3 3 1 0 4 4 4 3 4 5 3 5 1 1 5 0 1 4 1 3 3 3\n",
      " 3 3 4 3 1 4 3 3 4 0 3 3 3 4 3 2 3 4 0 5 3 5 3 3 5 3 3 5 4 3 3 4 0 5 5 1 3\n",
      " 3 5 4 3 1 3 5 4 3 5 3 3 3 3 3 3 3 3 5 3 3 2 3 5 3 3 3 3 5 3 5 3 3 3 3 3 3\n",
      " 3 3 3 1 5 4 5 4 4 3 3 3 5 3 2 3 4 5 4 3 1 3 2 2 3 3 2 4 5 3 5 5 4 3 5 3 3\n",
      " 2 3 3 3 3 3 4 3 1 1 4 4 4 3 3 3 3 3 3 5 4 5 3 3 3 4 5 3 3 5 0 1 5 5 4 2 0\n",
      " 3 4 3 3 3 3 3 3 4 3 3 5 2 3 3 3 3 3 3 5 2 3 3 5 4 3 5 5 3 5 1 2 3 3 4 3 4\n",
      " 3 4 3 3 4 1 2 3 3 3 3 3 5 3 3 5 3 4 4 3 5 5 4 3 3 3 5 3 3 5 3 3 3 3 5 3 3\n",
      " 3 5 0 3 4 3 5 3 3 3 1 3 3 5 3 3 4 3 4 3 3 5 3 4 4 1 4 2 3 3 3 3 5 4 3 5 3\n",
      " 3 3 3 0 3 3 4 3 3 3 5 3 3 3 5 3 3 5 5 3 5 3 3 3 3 4 3 3 3 3 5 3 3 4 3 3 2\n",
      " 4 5 3 3 1 4 5 5 4 3 4 3 4 5 0 3 3 3 4 4 5 3 1 2 2 3 5 5 5 5 3 3 5 3 3 3 2\n",
      " 4 3 2 1 5 3 5 3 3 3 5 4 2 5 5 3 3 3 5 3 3 3 2 3 2 2 4 3 5 1 3 3 3 2 3 0 3\n",
      " 2 3 0 3 4 3 1 5 3 4 3 3 5 1 5 2 4 3 4 5 3 3 3 4 3 4 5 3 5 3 3 0 3 3 3 4 3\n",
      " 2 5 1 3 3 3 3 3 4 3 5 4 5 4 4 5 3 4 2 3 3 4 5 3 3 5 3 1 3 3 3 3 3 4 3 3 3\n",
      " 5 3 3 4 3 4 4 4 3 3 3 3 3 3 3 5 2 3 3 3 5 3 5 4 3 3 4 4 3 4 3 3 3 3 4 3 3\n",
      " 3 3 3 3 4 2 3 4 3 4 4 3 5 3 5 3 3 3 2 3 3 3 3 3 3 1 3 3 3 3 5 5 5 3 3 5 2\n",
      " 3 3 3 3 4 3 4 3 3 3 5 3 3 5 3 5 3 2 2 2 3 5 3 3 3 3 3 3 3 3 5 5 3 4 5 0 3\n",
      " 3 3 3 3 4 5 5 2 3 3 5 5 5 4 4 4 2 3 1 5 5 3 5 1 3 2 3 5 3 2 3 4 4 4 2 3 5\n",
      " 3 5]\n"
     ]
    }
   ],
   "source": [
    "loader = DataLoader(test_dataset, batch_size=len(test_dataset))\n",
    "x_test, y_test = next(iter(loader))\n",
    "\n",
    "y_pred = model.predict(x_test)\n",
    "\n",
    "predicted_classes = torch.argmax(y_pred, dim=1).cpu().numpy()\n",
    "\n",
    "print(predicted_classes)"
   ]
  },
  {
   "cell_type": "code",
   "execution_count": 18,
   "metadata": {},
   "outputs": [
    {
     "data": {
      "text/html": [
       "<div>\n",
       "<style scoped>\n",
       "    .dataframe tbody tr th:only-of-type {\n",
       "        vertical-align: middle;\n",
       "    }\n",
       "\n",
       "    .dataframe tbody tr th {\n",
       "        vertical-align: top;\n",
       "    }\n",
       "\n",
       "    .dataframe thead th {\n",
       "        text-align: right;\n",
       "    }\n",
       "</style>\n",
       "<table border=\"1\" class=\"dataframe\">\n",
       "  <thead>\n",
       "    <tr style=\"text-align: right;\">\n",
       "      <th></th>\n",
       "      <th>aap_ammount</th>\n",
       "      <th>ah_ammount</th>\n",
       "      <th>th_ammount</th>\n",
       "      <th>ta_ammount</th>\n",
       "      <th>manpads_ammount</th>\n",
       "      <th>sam_ammount</th>\n",
       "      <th>descision</th>\n",
       "    </tr>\n",
       "  </thead>\n",
       "  <tbody>\n",
       "  </tbody>\n",
       "</table>\n",
       "</div>"
      ],
      "text/plain": [
       "Empty DataFrame\n",
       "Columns: [aap_ammount, ah_ammount, th_ammount, ta_ammount, manpads_ammount, sam_ammount, descision]\n",
       "Index: []"
      ]
     },
     "execution_count": 18,
     "metadata": {},
     "output_type": "execute_result"
    }
   ],
   "source": [
    "data[data[\"descision\"] == 6]"
   ]
  },
  {
   "cell_type": "code",
   "execution_count": 19,
   "metadata": {},
   "outputs": [
    {
     "data": {
      "text/plain": [
       "<sklearn.metrics._plot.confusion_matrix.ConfusionMatrixDisplay at 0x16fb1bc70>"
      ]
     },
     "execution_count": 19,
     "metadata": {},
     "output_type": "execute_result"
    },
    {
     "data": {
      "image/png": "[encoded data removed]",
      "text/plain": [
       "<Figure size 640x480 with 2 Axes>"
      ]
     },
     "metadata": {},
     "output_type": "display_data"
    }
   ],
   "source": [
    "commands = [\"Manpads\", \"SAM\", \"AAG\", \"Wait for realoding\", \"SAM/MANPADS\", \"SAM/AAG\"]\n",
    "\n",
    "ConfusionMatrixDisplay.from_predictions(y_test, predicted_classes, display_labels=commands)"
   ]
  },
  {
   "cell_type": "code",
   "execution_count": 20,
   "metadata": {},
   "outputs": [
    {
     "data": {
      "text/html": [
       "<div>\n",
       "<style scoped>\n",
       "    .dataframe tbody tr th:only-of-type {\n",
       "        vertical-align: middle;\n",
       "    }\n",
       "\n",
       "    .dataframe tbody tr th {\n",
       "        vertical-align: top;\n",
       "    }\n",
       "\n",
       "    .dataframe thead th {\n",
       "        text-align: right;\n",
       "    }\n",
       "</style>\n",
       "<table border=\"1\" class=\"dataframe\">\n",
       "  <thead>\n",
       "    <tr style=\"text-align: right;\">\n",
       "      <th></th>\n",
       "      <th>aap_ammount</th>\n",
       "      <th>ah_ammount</th>\n",
       "      <th>th_ammount</th>\n",
       "      <th>ta_ammount</th>\n",
       "      <th>manpads_ammount</th>\n",
       "      <th>sam_ammount</th>\n",
       "      <th>descision</th>\n",
       "    </tr>\n",
       "  </thead>\n",
       "  <tbody>\n",
       "    <tr>\n",
       "      <th>4</th>\n",
       "      <td>0</td>\n",
       "      <td>0</td>\n",
       "      <td>0</td>\n",
       "      <td>1</td>\n",
       "      <td>1</td>\n",
       "      <td>0</td>\n",
       "      <td>0</td>\n",
       "    </tr>\n",
       "  </tbody>\n",
       "</table>\n",
       "</div>"
      ],
      "text/plain": [
       "   aap_ammount  ah_ammount  th_ammount  ta_ammount  manpads_ammount  \\\n",
       "4            0           0           0           1                1   \n",
       "\n",
       "   sam_ammount  descision  \n",
       "4            0          0  "
      ]
     },
     "execution_count": 20,
     "metadata": {},
     "output_type": "execute_result"
    }
   ],
   "source": [
    "data[data[\"descision\"] == 0].head(1)"
   ]
  },
  {
   "cell_type": "code",
   "execution_count": 21,
   "metadata": {},
   "outputs": [
    {
     "name": "stdout",
     "output_type": "stream",
     "text": [
      "Manpads\n"
     ]
    }
   ],
   "source": [
    "import torch\n",
    "data = [0, 0, 0, 1, 1, 0]\n",
    "\n",
    "x = torch.FloatTensor(data).unsqueeze(0).to(device)\n",
    "\n",
    "y_pred = model.predict(x, device=device)\n",
    "\n",
    "t_r = torch.argmax(y_pred)\n",
    "\n",
    "r = np.array(t_r)\n",
    "\n",
    "print(commands[r])"
   ]
  },
  {
   "cell_type": "code",
   "execution_count": 22,
   "metadata": {},
   "outputs": [
    {
     "data": {
      "image/png": "[encoded data removed]",
      "text/plain": [
       "<Figure size 640x480 with 1 Axes>"
      ]
     },
     "metadata": {},
     "output_type": "display_data"
    }
   ],
   "source": [
    "plt.plot(history[\"loss\"], label=\"training loss\")\n",
    "plt.plot(history[\"val_loss\"], label=\"validation loss\")\n",
    "plt.xlabel(\"epochs\")\n",
    "plt.ylabel(\"loss\")\n",
    "plt.legend()\n",
    "plt.show()"
   ]
  },
  {
   "cell_type": "code",
   "execution_count": 23,
   "metadata": {},
   "outputs": [],
   "source": [
    "# torch.save(model, \"aviation.pt\")"
   ]
  },
  {
   "cell_type": "code",
   "execution_count": 24,
   "metadata": {},
   "outputs": [],
   "source": [
    "torch.save(model.state_dict(), \"aviation.pt\")"
   ]
  }
 ],
 "metadata": {
  "kernelspec": {
   "display_name": "Python 3",
   "language": "python",
   "name": "python3"
  },
  "language_info": {
   "codemirror_mode": {
    "name": "ipython",
    "version": 3
   },
   "file_extension": ".py",
   "mimetype": "text/x-python",
   "name": "python",
   "nbconvert_exporter": "python",
   "pygments_lexer": "ipython3",
   "version": "3.9.6"
  }
 },
 "nbformat": 4,
 "nbformat_minor": 2
}
