{
 "cells": [
  {
   "cell_type": "code",
   "execution_count": 51,
   "metadata": {},
   "outputs": [],
   "source": [
    "import torch \n",
    "from torch import nn\n",
    "import torch.nn.functional as F\n",
    "\n",
    "from torch.utils.data import DataLoader, Dataset\n",
    "import pandas as pd\n",
    "import numpy as np \n",
    "import matplotlib.pyplot as plt \n",
    "from train import train\n",
    "from torch.optim import Adam\n",
    "from sklearn.metrics import accuracy_score, ConfusionMatrixDisplay\n",
    "from sklearn.model_selection import train_test_split"
   ]
  },
  {
   "cell_type": "code",
   "execution_count": 52,
   "metadata": {},
   "outputs": [],
   "source": [
    "device = \"cuda\" if torch.cuda.is_available() else \"cpu\""
   ]
  },
  {
   "cell_type": "markdown",
   "metadata": {},
   "source": [
    "Ammount of objects already turned to categorical format, so:\n",
    "0 -  means no objects \n",
    "1 - means 1-5 objects (few)\n",
    "2 - means 6-10 (some)\n",
    "3 - means >10 objects (a lot)\n",
    "\n",
    "Ammount of avalailable weapons means:\n",
    "0 - no amunition of this type (0)\n",
    "1 - a few amunition of this type (<10)\n",
    "2 - some amunition of this type (10-50)\n",
    "3 - enought amunition of this type (<50)\n",
    "\n",
    "All of above ammounts could be changed so for example 1 as a detectes combat vehicle could mean not 1-5 but 1-3 detected objects. It will be realized in following code part.\n",
    "\n",
    "\n",
    "Descisions are also turned into categorical format:\n",
    "0 - means to use cluster shells \n",
    "1 - means to use unitar shells \n",
    "2 - means to use FPV kamikaze-drones\n",
    "3 - means to wait for realoadings\n"
   ]
  },
  {
   "cell_type": "code",
   "execution_count": 53,
   "metadata": {},
   "outputs": [
    {
     "data": {
      "text/html": [
       "<div>\n",
       "<style scoped>\n",
       "    .dataframe tbody tr th:only-of-type {\n",
       "        vertical-align: middle;\n",
       "    }\n",
       "\n",
       "    .dataframe tbody tr th {\n",
       "        vertical-align: top;\n",
       "    }\n",
       "\n",
       "    .dataframe thead th {\n",
       "        text-align: right;\n",
       "    }\n",
       "</style>\n",
       "<table border=\"1\" class=\"dataframe\">\n",
       "  <thead>\n",
       "    <tr style=\"text-align: right;\">\n",
       "      <th></th>\n",
       "      <th>tart_ammount</th>\n",
       "      <th>spart_ammount</th>\n",
       "      <th>cl_shells_ammount</th>\n",
       "      <th>u_shells_ammount</th>\n",
       "      <th>fpv_shells_ammount</th>\n",
       "      <th>descision</th>\n",
       "    </tr>\n",
       "  </thead>\n",
       "  <tbody>\n",
       "    <tr>\n",
       "      <th>0</th>\n",
       "      <td>0</td>\n",
       "      <td>1</td>\n",
       "      <td>0</td>\n",
       "      <td>0</td>\n",
       "      <td>0</td>\n",
       "      <td>3</td>\n",
       "    </tr>\n",
       "    <tr>\n",
       "      <th>1</th>\n",
       "      <td>0</td>\n",
       "      <td>1</td>\n",
       "      <td>0</td>\n",
       "      <td>0</td>\n",
       "      <td>1</td>\n",
       "      <td>2</td>\n",
       "    </tr>\n",
       "    <tr>\n",
       "      <th>2</th>\n",
       "      <td>0</td>\n",
       "      <td>1</td>\n",
       "      <td>0</td>\n",
       "      <td>0</td>\n",
       "      <td>2</td>\n",
       "      <td>2</td>\n",
       "    </tr>\n",
       "    <tr>\n",
       "      <th>3</th>\n",
       "      <td>0</td>\n",
       "      <td>1</td>\n",
       "      <td>0</td>\n",
       "      <td>0</td>\n",
       "      <td>3</td>\n",
       "      <td>2</td>\n",
       "    </tr>\n",
       "    <tr>\n",
       "      <th>4</th>\n",
       "      <td>0</td>\n",
       "      <td>1</td>\n",
       "      <td>0</td>\n",
       "      <td>1</td>\n",
       "      <td>0</td>\n",
       "      <td>1</td>\n",
       "    </tr>\n",
       "    <tr>\n",
       "      <th>...</th>\n",
       "      <td>...</td>\n",
       "      <td>...</td>\n",
       "      <td>...</td>\n",
       "      <td>...</td>\n",
       "      <td>...</td>\n",
       "      <td>...</td>\n",
       "    </tr>\n",
       "    <tr>\n",
       "      <th>955</th>\n",
       "      <td>3</td>\n",
       "      <td>3</td>\n",
       "      <td>3</td>\n",
       "      <td>2</td>\n",
       "      <td>3</td>\n",
       "      <td>1</td>\n",
       "    </tr>\n",
       "    <tr>\n",
       "      <th>956</th>\n",
       "      <td>3</td>\n",
       "      <td>3</td>\n",
       "      <td>3</td>\n",
       "      <td>3</td>\n",
       "      <td>0</td>\n",
       "      <td>1</td>\n",
       "    </tr>\n",
       "    <tr>\n",
       "      <th>957</th>\n",
       "      <td>3</td>\n",
       "      <td>3</td>\n",
       "      <td>3</td>\n",
       "      <td>3</td>\n",
       "      <td>1</td>\n",
       "      <td>1</td>\n",
       "    </tr>\n",
       "    <tr>\n",
       "      <th>958</th>\n",
       "      <td>3</td>\n",
       "      <td>3</td>\n",
       "      <td>3</td>\n",
       "      <td>3</td>\n",
       "      <td>2</td>\n",
       "      <td>1</td>\n",
       "    </tr>\n",
       "    <tr>\n",
       "      <th>959</th>\n",
       "      <td>3</td>\n",
       "      <td>3</td>\n",
       "      <td>3</td>\n",
       "      <td>3</td>\n",
       "      <td>3</td>\n",
       "      <td>1</td>\n",
       "    </tr>\n",
       "  </tbody>\n",
       "</table>\n",
       "<p>960 rows × 6 columns</p>\n",
       "</div>"
      ],
      "text/plain": [
       "     tart_ammount  spart_ammount  cl_shells_ammount  u_shells_ammount  \\\n",
       "0               0              1                  0                 0   \n",
       "1               0              1                  0                 0   \n",
       "2               0              1                  0                 0   \n",
       "3               0              1                  0                 0   \n",
       "4               0              1                  0                 1   \n",
       "..            ...            ...                ...               ...   \n",
       "955             3              3                  3                 2   \n",
       "956             3              3                  3                 3   \n",
       "957             3              3                  3                 3   \n",
       "958             3              3                  3                 3   \n",
       "959             3              3                  3                 3   \n",
       "\n",
       "     fpv_shells_ammount  descision  \n",
       "0                     0          3  \n",
       "1                     1          2  \n",
       "2                     2          2  \n",
       "3                     3          2  \n",
       "4                     0          1  \n",
       "..                  ...        ...  \n",
       "955                   3          1  \n",
       "956                   0          1  \n",
       "957                   1          1  \n",
       "958                   2          1  \n",
       "959                   3          1  \n",
       "\n",
       "[960 rows x 6 columns]"
      ]
     },
     "execution_count": 53,
     "metadata": {},
     "output_type": "execute_result"
    }
   ],
   "source": [
    "data = pd.read_csv(\"/Users/maxkucher/shelling /artillery.csv\", index_col=False)\n",
    "data = data.drop(\"Unnamed: 0\", axis='columns')\n",
    "data"
   ]
  },
  {
   "cell_type": "code",
   "execution_count": 54,
   "metadata": {},
   "outputs": [],
   "source": [
    "x = data.drop(\"descision\", axis=\"columns\")\n",
    "y = data[\"descision\"]\n",
    "\n",
    "x_train, x_test, y_train, y_test = train_test_split(x, y, test_size=0.2, stratify=y, random_state=42)"
   ]
  },
  {
   "cell_type": "code",
   "execution_count": 55,
   "metadata": {},
   "outputs": [],
   "source": [
    "class MyDataset(Dataset):\n",
    "    def __init__(self, x, y):\n",
    "        self.x = torch.FloatTensor(x.values)\n",
    "        self.y = torch.LongTensor(y.values)\n",
    "        # self.y = self.y.reshape(-1, 1)\n",
    "    \n",
    "    def __len__(self):\n",
    "        return len(self.x)\n",
    "    \n",
    "    def __getitem__(self, index):\n",
    "        return self.x[index], self.y[index]"
   ]
  },
  {
   "cell_type": "code",
   "execution_count": 56,
   "metadata": {},
   "outputs": [],
   "source": [
    "train_dataset = MyDataset(x_train, y_train)\n",
    "test_dataset = MyDataset(x_test, y_test)"
   ]
  },
  {
   "cell_type": "code",
   "execution_count": 57,
   "metadata": {},
   "outputs": [
    {
     "data": {
      "text/plain": [
       "(768, 192)"
      ]
     },
     "execution_count": 57,
     "metadata": {},
     "output_type": "execute_result"
    }
   ],
   "source": [
    "len(train_dataset), len(test_dataset)"
   ]
  },
  {
   "cell_type": "code",
   "execution_count": 58,
   "metadata": {},
   "outputs": [
    {
     "data": {
      "text/plain": [
       "(768, 5)"
      ]
     },
     "execution_count": 58,
     "metadata": {},
     "output_type": "execute_result"
    }
   ],
   "source": [
    "x_train.shape"
   ]
  },
  {
   "cell_type": "code",
   "execution_count": 59,
   "metadata": {},
   "outputs": [
    {
     "data": {
      "text/plain": [
       "descision\n",
       "1    576\n",
       "0    144\n",
       "2     36\n",
       "3     12\n",
       "Name: count, dtype: int64"
      ]
     },
     "execution_count": 59,
     "metadata": {},
     "output_type": "execute_result"
    }
   ],
   "source": [
    "y_train.value_counts()"
   ]
  },
  {
   "cell_type": "code",
   "execution_count": 60,
   "metadata": {},
   "outputs": [
    {
     "data": {
      "text/plain": [
       "(tensor([3., 0., 0., 2., 2.]), tensor(1))"
      ]
     },
     "execution_count": 60,
     "metadata": {},
     "output_type": "execute_result"
    }
   ],
   "source": [
    "train_dataset[3]"
   ]
  },
  {
   "cell_type": "code",
   "execution_count": 61,
   "metadata": {},
   "outputs": [],
   "source": [
    "batch_size = 32\n",
    "\n",
    "train_dataloader = DataLoader(train_dataset, batch_size=batch_size, shuffle=True, generator=torch.Generator(device=device))\n",
    "test_dataloader = DataLoader(test_dataset, batch_size=batch_size, shuffle=True, generator=torch.Generator(device=device))\n"
   ]
  },
  {
   "cell_type": "code",
   "execution_count": 62,
   "metadata": {},
   "outputs": [
    {
     "data": {
      "text/plain": [
       "ArtilleryModel(\n",
       "  (linear1): Linear(in_features=5, out_features=28, bias=True)\n",
       "  (bnorm1): BatchNorm1d(28, eps=1e-05, momentum=0.1, affine=True, track_running_stats=True)\n",
       "  (linear2): Linear(in_features=28, out_features=14, bias=True)\n",
       "  (drop1): Dropout(p=0.2, inplace=False)\n",
       "  (linear3): Linear(in_features=14, out_features=7, bias=True)\n",
       "  (linear4): Linear(in_features=7, out_features=5, bias=True)\n",
       "  (linear5): Linear(in_features=5, out_features=4, bias=True)\n",
       ")"
      ]
     },
     "execution_count": 62,
     "metadata": {},
     "output_type": "execute_result"
    }
   ],
   "source": [
    "class ArtilleryModel(nn.Module):\n",
    "    def __init__(self, num_classes=4):\n",
    "        super().__init__()\n",
    "\n",
    "        self.linear1 = nn.Linear(in_features=5, out_features=28)\n",
    "        self.bnorm1 = nn.BatchNorm1d(28)\n",
    "        self.linear2 = nn.Linear(in_features=28, out_features=14)\n",
    "        self.drop1 = nn.Dropout(0.2)\n",
    "        self.linear3 = nn.Linear(in_features=14, out_features=7)\n",
    "        self.linear4 = nn.Linear(in_features=7, out_features=5)\n",
    "        self.linear5 = nn.Linear(in_features=5, out_features=num_classes)\n",
    "\n",
    "    def forward(self, x):\n",
    "        out = self.linear1(x)\n",
    "        out = F.relu(out)\n",
    "        out = self.bnorm1(out)\n",
    "        out = self.linear2(out)\n",
    "        out = F.relu(out)\n",
    "        out = self.drop1(out)\n",
    "        out = self.linear3(out)\n",
    "        out = F.relu(out)\n",
    "        out = self.linear4(out)\n",
    "        out = F.relu(out)\n",
    "        out = self.linear5(out)\n",
    "        \n",
    "        return out\n",
    "    \n",
    "    def predict(self, x):\n",
    "        x = torch.FloatTensor(x).to(device)\n",
    "        with torch.no_grad():\n",
    "            y_pred = F.softmax(self.forward(x), dim=-1)\n",
    "\n",
    "        return y_pred\n",
    "    \n",
    "model = ArtilleryModel().to(device)\n",
    "model"
   ]
  },
  {
   "cell_type": "code",
   "execution_count": 63,
   "metadata": {},
   "outputs": [
    {
     "name": "stdout",
     "output_type": "stream",
     "text": [
      "\u001b[33mWARNING: You are using pip version 21.2.4; however, version 24.2 is available.\n",
      "You should consider upgrading via the '/Library/Developer/CommandLineTools/usr/bin/python3 -m pip install --upgrade pip' command.\u001b[0m\n",
      "Note: you may need to restart the kernel to use updated packages.\n"
     ]
    }
   ],
   "source": [
    "%pip install -q torchsummary"
   ]
  },
  {
   "cell_type": "code",
   "execution_count": 64,
   "metadata": {},
   "outputs": [
    {
     "name": "stdout",
     "output_type": "stream",
     "text": [
      "----------------------------------------------------------------\n",
      "        Layer (type)               Output Shape         Param #\n",
      "================================================================\n",
      "            Linear-1                   [-1, 28]             168\n",
      "       BatchNorm1d-2                   [-1, 28]              56\n",
      "            Linear-3                   [-1, 14]             406\n",
      "           Dropout-4                   [-1, 14]               0\n",
      "            Linear-5                    [-1, 7]             105\n",
      "            Linear-6                    [-1, 5]              40\n",
      "            Linear-7                    [-1, 4]              24\n",
      "================================================================\n",
      "Total params: 799\n",
      "Trainable params: 799\n",
      "Non-trainable params: 0\n",
      "----------------------------------------------------------------\n",
      "Input size (MB): 0.00\n",
      "Forward/backward pass size (MB): 0.00\n",
      "Params size (MB): 0.00\n",
      "Estimated Total Size (MB): 0.00\n",
      "----------------------------------------------------------------\n"
     ]
    }
   ],
   "source": [
    "from torchsummary import summary\n",
    "\n",
    "summary(model, input_size=(5, ))"
   ]
  },
  {
   "cell_type": "code",
   "execution_count": 65,
   "metadata": {},
   "outputs": [],
   "source": [
    "loss_func = nn.CrossEntropyLoss()\n",
    "optimizer = Adam(model.parameters(), lr=1e-2)"
   ]
  },
  {
   "cell_type": "code",
   "execution_count": 66,
   "metadata": {},
   "outputs": [
    {
     "name": "stdout",
     "output_type": "stream",
     "text": [
      "Epoch    1    0sec\tloss:      0.862\tval_loss:      0.569\taccuracy_score:       0.75\tval_accuracy_score:       0.75\t\n",
      "Epoch    2    0sec\tloss:      0.461\tval_loss:      0.371\taccuracy_score:       0.75\tval_accuracy_score:       0.75\t\n",
      "Epoch    3    0sec\tloss:      0.293\tval_loss:      0.175\taccuracy_score:      0.815\tval_accuracy_score:      0.984\t\n",
      "Epoch    4    0sec\tloss:      0.131\tval_loss:     0.0607\taccuracy_score:      0.966\tval_accuracy_score:      0.984\t\n",
      "Epoch    5    0sec\tloss:     0.0949\tval_loss:     0.0564\taccuracy_score:      0.971\tval_accuracy_score:      0.984\t\n",
      "Epoch    6    0sec\tloss:     0.0723\tval_loss:     0.0453\taccuracy_score:      0.971\tval_accuracy_score:      0.984\t\n",
      "Epoch    7    0sec\tloss:     0.0521\tval_loss:     0.0388\taccuracy_score:      0.982\tval_accuracy_score:      0.984\t\n",
      "Epoch    8    0sec\tloss:     0.0481\tval_loss:     0.0327\taccuracy_score:      0.979\tval_accuracy_score:      0.984\t\n",
      "Epoch    9    0sec\tloss:     0.0464\tval_loss:     0.0359\taccuracy_score:      0.979\tval_accuracy_score:      0.984\t\n",
      "Epoch   10    0sec\tloss:     0.0543\tval_loss:     0.0359\taccuracy_score:       0.98\tval_accuracy_score:      0.984\t\n",
      "Epoch   11    0sec\tloss:     0.0368\tval_loss:     0.0328\taccuracy_score:      0.983\tval_accuracy_score:      0.984\t\n",
      "Epoch   12    0sec\tloss:      0.038\tval_loss:     0.0277\taccuracy_score:      0.982\tval_accuracy_score:      0.984\t\n",
      "Epoch   13    0sec\tloss:      0.035\tval_loss:     0.0272\taccuracy_score:      0.983\tval_accuracy_score:      0.984\t\n",
      "Epoch   14    0sec\tloss:      0.026\tval_loss:     0.0252\taccuracy_score:      0.983\tval_accuracy_score:      0.984\t\n",
      "Epoch   15    0sec\tloss:     0.0337\tval_loss:     0.0214\taccuracy_score:       0.98\tval_accuracy_score:      0.984\t\n",
      "Epoch   16    0sec\tloss:     0.0278\tval_loss:     0.0233\taccuracy_score:      0.984\tval_accuracy_score:      0.984\t\n",
      "Epoch   17    0sec\tloss:     0.0294\tval_loss:     0.0192\taccuracy_score:      0.984\tval_accuracy_score:      0.984\t\n",
      "Epoch   18    0sec\tloss:     0.0205\tval_loss:     0.0191\taccuracy_score:       0.99\tval_accuracy_score:      0.984\t\n",
      "Epoch   19    0sec\tloss:     0.0227\tval_loss:     0.0167\taccuracy_score:      0.995\tval_accuracy_score:      0.984\t\n",
      "Epoch   20    0sec\tloss:     0.0271\tval_loss:     0.0189\taccuracy_score:      0.991\tval_accuracy_score:      0.995\t\n",
      "Epoch   21    0sec\tloss:     0.0263\tval_loss:     0.0172\taccuracy_score:      0.992\tval_accuracy_score:      0.984\t\n",
      "Epoch   22    0sec\tloss:     0.0235\tval_loss:     0.0168\taccuracy_score:      0.987\tval_accuracy_score:      0.995\t\n",
      "Epoch   23    0sec\tloss:     0.0262\tval_loss:     0.0204\taccuracy_score:      0.993\tval_accuracy_score:          1\t\n",
      "Epoch   24    0sec\tloss:     0.0337\tval_loss:      0.019\taccuracy_score:      0.992\tval_accuracy_score:      0.984\t\n",
      "Epoch   25    0sec\tloss:     0.0588\tval_loss:     0.0306\taccuracy_score:       0.98\tval_accuracy_score:      0.979\t\n",
      "Epoch   26    0sec\tloss:     0.0604\tval_loss:     0.0195\taccuracy_score:      0.986\tval_accuracy_score:          1\t\n",
      "Epoch   27    0sec\tloss:     0.0543\tval_loss:     0.0321\taccuracy_score:      0.984\tval_accuracy_score:      0.984\t\n",
      "Epoch   28    0sec\tloss:     0.0576\tval_loss:     0.0276\taccuracy_score:      0.983\tval_accuracy_score:       0.99\t\n",
      "Epoch   29    0sec\tloss:      0.047\tval_loss:     0.0299\taccuracy_score:      0.984\tval_accuracy_score:       0.99\t\n",
      "Epoch   30    0sec\tloss:      0.033\tval_loss:     0.0199\taccuracy_score:       0.99\tval_accuracy_score:       0.99\t\n",
      "Epoch   31    0sec\tloss:     0.0296\tval_loss:     0.0155\taccuracy_score:      0.988\tval_accuracy_score:      0.995\t\n",
      "Epoch   32    0sec\tloss:     0.0872\tval_loss:     0.0242\taccuracy_score:      0.984\tval_accuracy_score:      0.995\t\n",
      "Epoch   33    0sec\tloss:     0.0346\tval_loss:     0.0318\taccuracy_score:       0.99\tval_accuracy_score:      0.995\t\n",
      "Epoch   34    0sec\tloss:     0.0299\tval_loss:     0.0201\taccuracy_score:      0.988\tval_accuracy_score:      0.995\t\n",
      "Epoch   35    0sec\tloss:     0.0508\tval_loss:     0.0304\taccuracy_score:       0.99\tval_accuracy_score:          1\t\n",
      "Epoch   36    0sec\tloss:      0.036\tval_loss:     0.0223\taccuracy_score:      0.986\tval_accuracy_score:          1\t\n",
      "Epoch   37    0sec\tloss:     0.0386\tval_loss:     0.0202\taccuracy_score:      0.987\tval_accuracy_score:       0.99\t\n",
      "Epoch   38    0sec\tloss:     0.0266\tval_loss:     0.0202\taccuracy_score:      0.993\tval_accuracy_score:          1\t\n",
      "Epoch   39    0sec\tloss:     0.0505\tval_loss:     0.0274\taccuracy_score:      0.984\tval_accuracy_score:       0.99\t\n",
      "Epoch   40    0sec\tloss:      0.035\tval_loss:      0.034\taccuracy_score:      0.986\tval_accuracy_score:      0.984\t\n",
      "Epoch   41    0sec\tloss:     0.0329\tval_loss:     0.0193\taccuracy_score:      0.988\tval_accuracy_score:          1\t\n",
      "Epoch   42    0sec\tloss:     0.0303\tval_loss:     0.0162\taccuracy_score:      0.988\tval_accuracy_score:      0.995\t\n",
      "Epoch   43    0sec\tloss:     0.0239\tval_loss:      0.019\taccuracy_score:      0.996\tval_accuracy_score:          1\t\n",
      "Epoch   44    0sec\tloss:     0.0163\tval_loss:     0.0118\taccuracy_score:      0.993\tval_accuracy_score:          1\t\n",
      "Epoch   45    0sec\tloss:     0.0305\tval_loss:     0.0163\taccuracy_score:      0.988\tval_accuracy_score:          1\t\n",
      "Epoch   46    0sec\tloss:     0.0202\tval_loss:     0.0144\taccuracy_score:      0.991\tval_accuracy_score:          1\t\n",
      "Epoch   47    0sec\tloss:      0.021\tval_loss:     0.0103\taccuracy_score:      0.991\tval_accuracy_score:          1\t\n",
      "Epoch   48    0sec\tloss:     0.0184\tval_loss:      0.011\taccuracy_score:      0.996\tval_accuracy_score:          1\t\n",
      "Epoch   49    0sec\tloss:     0.0175\tval_loss:     0.0142\taccuracy_score:      0.997\tval_accuracy_score:          1\t\n",
      "Epoch   50    0sec\tloss:     0.0217\tval_loss:    0.00997\taccuracy_score:      0.992\tval_accuracy_score:          1\t\n",
      "\n",
      "Time total:      2.18 sec\n"
     ]
    }
   ],
   "source": [
    "history = train(model, optimizer, loss_func, train_dataloader, test_dataloader, epochs=50, metrics=[accuracy_score], \n",
    "                device=device, task=\"multiclass\")"
   ]
  },
  {
   "cell_type": "code",
   "execution_count": 67,
   "metadata": {},
   "outputs": [
    {
     "name": "stdout",
     "output_type": "stream",
     "text": [
      "[1 1 0 1 1 1 1 2 1 1 1 0 1 1 1 1 2 1 1 0 1 1 1 0 0 1 1 0 1 1 1 1 0 1 3 1 1\n",
      " 0 1 1 1 2 1 1 1 1 3 1 0 1 1 1 1 1 1 0 0 1 1 1 0 1 1 0 0 1 1 1 1 1 1 1 1 1\n",
      " 0 1 0 1 1 1 1 1 2 0 1 0 0 1 1 0 1 1 3 1 1 1 2 1 1 0 1 0 1 1 1 1 1 1 1 1 0\n",
      " 1 1 1 1 0 1 1 1 1 1 1 1 1 0 1 1 1 0 1 1 0 0 1 1 1 0 1 0 1 1 1 2 0 1 1 1 1\n",
      " 1 2 1 0 1 1 1 1 0 0 1 1 1 1 1 1 1 1 1 1 1 1 1 1 1 1 1 2 1 0 0 1 2 1 1 1 1\n",
      " 1 1 1 1 1 1 1]\n"
     ]
    }
   ],
   "source": [
    "loader = torch.utils.data.DataLoader(test_dataset, batch_size=len(test_dataset))\n",
    "X_test, y_test = next(iter(loader))\n",
    "\n",
    "y_pred = model.predict(X_test)\n",
    "\n",
    "predicted_classes = torch.argmax(y_pred, dim=1).cpu().numpy()\n",
    "\n",
    "print(predicted_classes)\n"
   ]
  },
  {
   "cell_type": "code",
   "execution_count": 68,
   "metadata": {},
   "outputs": [
    {
     "data": {
      "text/plain": [
       "192"
      ]
     },
     "execution_count": 68,
     "metadata": {},
     "output_type": "execute_result"
    }
   ],
   "source": [
    "len(y_test)"
   ]
  },
  {
   "cell_type": "code",
   "execution_count": 79,
   "metadata": {},
   "outputs": [
    {
     "data": {
      "text/plain": [
       "[]"
      ]
     },
     "execution_count": 79,
     "metadata": {},
     "output_type": "execute_result"
    },
    {
     "data": {
      "image/png": "[encoded data removed]",
      "text/plain": [
       "<Figure size 640x480 with 2 Axes>"
      ]
     },
     "metadata": {},
     "output_type": "display_data"
    }
   ],
   "source": [
    "commands = [\"Cluster shells\", \"Unitar shells\", \"FPV-drones\", \"Wait for reloading\"]\n",
    "\n",
    "ConfusionMatrixDisplay.from_predictions(y_test, predicted_classes, display_labels=commands)\n",
    "plt.plot()"
   ]
  },
  {
   "cell_type": "code",
   "execution_count": 70,
   "metadata": {},
   "outputs": [
    {
     "data": {
      "image/png": "[encoded data removed]",
      "text/plain": [
       "<Figure size 640x480 with 1 Axes>"
      ]
     },
     "metadata": {},
     "output_type": "display_data"
    }
   ],
   "source": [
    "plt.plot(history[\"loss\"], label=\"training loss\")\n",
    "plt.plot(history[\"val_loss\"], label=\"validation loss\")\n",
    "plt.xlabel(\"epochs\")\n",
    "plt.ylabel(\"loss\")\n",
    "plt.legend()\n",
    "plt.show()"
   ]
  },
  {
   "cell_type": "code",
   "execution_count": 71,
   "metadata": {},
   "outputs": [
    {
     "data": {
      "text/html": [
       "<div>\n",
       "<style scoped>\n",
       "    .dataframe tbody tr th:only-of-type {\n",
       "        vertical-align: middle;\n",
       "    }\n",
       "\n",
       "    .dataframe tbody tr th {\n",
       "        vertical-align: top;\n",
       "    }\n",
       "\n",
       "    .dataframe thead th {\n",
       "        text-align: right;\n",
       "    }\n",
       "</style>\n",
       "<table border=\"1\" class=\"dataframe\">\n",
       "  <thead>\n",
       "    <tr style=\"text-align: right;\">\n",
       "      <th></th>\n",
       "      <th>tart_ammount</th>\n",
       "      <th>spart_ammount</th>\n",
       "      <th>cl_shells_ammount</th>\n",
       "      <th>u_shells_ammount</th>\n",
       "      <th>fpv_shells_ammount</th>\n",
       "      <th>descision</th>\n",
       "    </tr>\n",
       "  </thead>\n",
       "  <tbody>\n",
       "    <tr>\n",
       "      <th>0</th>\n",
       "      <td>0</td>\n",
       "      <td>1</td>\n",
       "      <td>0</td>\n",
       "      <td>0</td>\n",
       "      <td>0</td>\n",
       "      <td>3</td>\n",
       "    </tr>\n",
       "    <tr>\n",
       "      <th>64</th>\n",
       "      <td>0</td>\n",
       "      <td>2</td>\n",
       "      <td>0</td>\n",
       "      <td>0</td>\n",
       "      <td>0</td>\n",
       "      <td>3</td>\n",
       "    </tr>\n",
       "    <tr>\n",
       "      <th>128</th>\n",
       "      <td>0</td>\n",
       "      <td>3</td>\n",
       "      <td>0</td>\n",
       "      <td>0</td>\n",
       "      <td>0</td>\n",
       "      <td>3</td>\n",
       "    </tr>\n",
       "    <tr>\n",
       "      <th>192</th>\n",
       "      <td>1</td>\n",
       "      <td>0</td>\n",
       "      <td>0</td>\n",
       "      <td>0</td>\n",
       "      <td>0</td>\n",
       "      <td>3</td>\n",
       "    </tr>\n",
       "    <tr>\n",
       "      <th>256</th>\n",
       "      <td>1</td>\n",
       "      <td>1</td>\n",
       "      <td>0</td>\n",
       "      <td>0</td>\n",
       "      <td>0</td>\n",
       "      <td>3</td>\n",
       "    </tr>\n",
       "    <tr>\n",
       "      <th>320</th>\n",
       "      <td>1</td>\n",
       "      <td>2</td>\n",
       "      <td>0</td>\n",
       "      <td>0</td>\n",
       "      <td>0</td>\n",
       "      <td>3</td>\n",
       "    </tr>\n",
       "    <tr>\n",
       "      <th>384</th>\n",
       "      <td>1</td>\n",
       "      <td>3</td>\n",
       "      <td>0</td>\n",
       "      <td>0</td>\n",
       "      <td>0</td>\n",
       "      <td>3</td>\n",
       "    </tr>\n",
       "    <tr>\n",
       "      <th>448</th>\n",
       "      <td>2</td>\n",
       "      <td>0</td>\n",
       "      <td>0</td>\n",
       "      <td>0</td>\n",
       "      <td>0</td>\n",
       "      <td>3</td>\n",
       "    </tr>\n",
       "    <tr>\n",
       "      <th>512</th>\n",
       "      <td>2</td>\n",
       "      <td>1</td>\n",
       "      <td>0</td>\n",
       "      <td>0</td>\n",
       "      <td>0</td>\n",
       "      <td>3</td>\n",
       "    </tr>\n",
       "    <tr>\n",
       "      <th>576</th>\n",
       "      <td>2</td>\n",
       "      <td>2</td>\n",
       "      <td>0</td>\n",
       "      <td>0</td>\n",
       "      <td>0</td>\n",
       "      <td>3</td>\n",
       "    </tr>\n",
       "    <tr>\n",
       "      <th>640</th>\n",
       "      <td>2</td>\n",
       "      <td>3</td>\n",
       "      <td>0</td>\n",
       "      <td>0</td>\n",
       "      <td>0</td>\n",
       "      <td>3</td>\n",
       "    </tr>\n",
       "    <tr>\n",
       "      <th>704</th>\n",
       "      <td>3</td>\n",
       "      <td>0</td>\n",
       "      <td>0</td>\n",
       "      <td>0</td>\n",
       "      <td>0</td>\n",
       "      <td>3</td>\n",
       "    </tr>\n",
       "    <tr>\n",
       "      <th>768</th>\n",
       "      <td>3</td>\n",
       "      <td>1</td>\n",
       "      <td>0</td>\n",
       "      <td>0</td>\n",
       "      <td>0</td>\n",
       "      <td>3</td>\n",
       "    </tr>\n",
       "    <tr>\n",
       "      <th>832</th>\n",
       "      <td>3</td>\n",
       "      <td>2</td>\n",
       "      <td>0</td>\n",
       "      <td>0</td>\n",
       "      <td>0</td>\n",
       "      <td>3</td>\n",
       "    </tr>\n",
       "    <tr>\n",
       "      <th>896</th>\n",
       "      <td>3</td>\n",
       "      <td>3</td>\n",
       "      <td>0</td>\n",
       "      <td>0</td>\n",
       "      <td>0</td>\n",
       "      <td>3</td>\n",
       "    </tr>\n",
       "  </tbody>\n",
       "</table>\n",
       "</div>"
      ],
      "text/plain": [
       "     tart_ammount  spart_ammount  cl_shells_ammount  u_shells_ammount  \\\n",
       "0               0              1                  0                 0   \n",
       "64              0              2                  0                 0   \n",
       "128             0              3                  0                 0   \n",
       "192             1              0                  0                 0   \n",
       "256             1              1                  0                 0   \n",
       "320             1              2                  0                 0   \n",
       "384             1              3                  0                 0   \n",
       "448             2              0                  0                 0   \n",
       "512             2              1                  0                 0   \n",
       "576             2              2                  0                 0   \n",
       "640             2              3                  0                 0   \n",
       "704             3              0                  0                 0   \n",
       "768             3              1                  0                 0   \n",
       "832             3              2                  0                 0   \n",
       "896             3              3                  0                 0   \n",
       "\n",
       "     fpv_shells_ammount  descision  \n",
       "0                     0          3  \n",
       "64                    0          3  \n",
       "128                   0          3  \n",
       "192                   0          3  \n",
       "256                   0          3  \n",
       "320                   0          3  \n",
       "384                   0          3  \n",
       "448                   0          3  \n",
       "512                   0          3  \n",
       "576                   0          3  \n",
       "640                   0          3  \n",
       "704                   0          3  \n",
       "768                   0          3  \n",
       "832                   0          3  \n",
       "896                   0          3  "
      ]
     },
     "execution_count": 71,
     "metadata": {},
     "output_type": "execute_result"
    }
   ],
   "source": [
    "data[data[\"descision\"] == 3] "
   ]
  },
  {
   "cell_type": "code",
   "execution_count": 72,
   "metadata": {},
   "outputs": [
    {
     "name": "stdout",
     "output_type": "stream",
     "text": [
      "Wait for reloading\n"
     ]
    }
   ],
   "source": [
    "import torch\n",
    "\n",
    "commands = [\"Cluster shells\", \"Unitar shells\", \"FPV-drones\", \"Wait for reloading\"]\n",
    "\n",
    "x = torch.FloatTensor([0, 2, 0, 0, 0]).to(device)\n",
    "x = x.unsqueeze(0)\n",
    "model.eval()\n",
    "\n",
    "with torch.no_grad():\n",
    "    res = model(x)\n",
    "\n",
    "t_x = torch.argmax(res)\n",
    "t_array = np.array(t_x)\n",
    "\n",
    "\n",
    "print(commands[t_array])\n"
   ]
  },
  {
   "cell_type": "code",
   "execution_count": 76,
   "metadata": {},
   "outputs": [],
   "source": [
    "torch.save(model, \"artillery.pt\")"
   ]
  },
  {
   "cell_type": "code",
   "execution_count": 77,
   "metadata": {},
   "outputs": [],
   "source": [
    "m = torch.load(\"/Users/maxkucher/shelling /artillery.pt\")"
   ]
  },
  {
   "cell_type": "code",
   "execution_count": 78,
   "metadata": {},
   "outputs": [
    {
     "name": "stdout",
     "output_type": "stream",
     "text": [
      "----------------------------------------------------------------\n",
      "        Layer (type)               Output Shape         Param #\n",
      "================================================================\n",
      "            Linear-1                   [-1, 28]             168\n",
      "       BatchNorm1d-2                   [-1, 28]              56\n",
      "            Linear-3                   [-1, 14]             406\n",
      "           Dropout-4                   [-1, 14]               0\n",
      "            Linear-5                    [-1, 7]             105\n",
      "            Linear-6                    [-1, 5]              40\n",
      "            Linear-7                    [-1, 4]              24\n",
      "================================================================\n",
      "Total params: 799\n",
      "Trainable params: 799\n",
      "Non-trainable params: 0\n",
      "----------------------------------------------------------------\n",
      "Input size (MB): 0.00\n",
      "Forward/backward pass size (MB): 0.00\n",
      "Params size (MB): 0.00\n",
      "Estimated Total Size (MB): 0.00\n",
      "----------------------------------------------------------------\n"
     ]
    }
   ],
   "source": [
    "summary(m, input_size=(5,))"
   ]
  },
  {
   "cell_type": "code",
   "execution_count": null,
   "metadata": {},
   "outputs": [],
   "source": [
    "torch.save(model.state_dict(), \"artillery.pt\")"
   ]
  }
 ],
 "metadata": {
  "kernelspec": {
   "display_name": "Python 3",
   "language": "python",
   "name": "python3"
  },
  "language_info": {
   "codemirror_mode": {
    "name": "ipython",
    "version": 3
   },
   "file_extension": ".py",
   "mimetype": "text/x-python",
   "name": "python",
   "nbconvert_exporter": "python",
   "pygments_lexer": "ipython3",
   "version": "3.9.6"
  }
 },
 "nbformat": 4,
 "nbformat_minor": 2
}
